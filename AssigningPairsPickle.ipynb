{
 "cells": [
  {
   "cell_type": "code",
   "execution_count": 20,
   "id": "fd9ec86d-2cb9-4cba-b50e-d00ae788cecf",
   "metadata": {},
   "outputs": [],
   "source": [
    "import pandas as pd\n",
    "import numpy as np\n",
    "import pickle\n",
    "import os"
   ]
  },
  {
   "cell_type": "code",
   "execution_count": 21,
   "id": "a39d2cba-dcf9-4333-a121-abd2bab8a23c",
   "metadata": {},
   "outputs": [],
   "source": [
    "def getNormed(this_array, this_min = 0, this_max = 255, set_to_int = True):\n",
    "    new_var = this_array.copy()\n",
    "    rat = (this_max - this_min)/(new_var.max() - new_var.min())\n",
    "    new_var = new_var * rat\n",
    "    new_var -= new_var.min()\n",
    "    new_var += this_min\n",
    "    if set_to_int:\n",
    "        return new_var.astype('uint8')\n",
    "    return new_var"
   ]
  },
  {
   "cell_type": "code",
   "execution_count": 22,
   "id": "fadc2fd3-0fef-47c5-b2d5-4183ce9d8271",
   "metadata": {},
   "outputs": [
    {
     "data": {
      "text/plain": [
       "582"
      ]
     },
     "execution_count": 22,
     "metadata": {},
     "output_type": "execute_result"
    }
   ],
   "source": [
    "#train = pd.read_csv('/Users/amalalmansour/Desktop/New_Images/Malignancy/train.csv')\n",
    "train = pd.read_csv('/Users/amalalmansour/Desktop/New_Images/Spiculation/Train.csv')\n",
    "len(train)"
   ]
  },
  {
   "cell_type": "code",
   "execution_count": 23,
   "id": "01830dc2-3579-4c32-a999-1fc2f63099c9",
   "metadata": {},
   "outputs": [
    {
     "data": {
      "text/plain": [
       "145"
      ]
     },
     "execution_count": 23,
     "metadata": {},
     "output_type": "execute_result"
    }
   ],
   "source": [
    "#test = pd.read_csv('/Users/amalalmansour/Desktop/New_Images/Malignancy/test.csv')\n",
    "test = pd.read_csv('/Users/amalalmansour/Desktop/New_Images/Spiculation/Test.csv')\n",
    "len(test)"
   ]
  },
  {
   "cell_type": "code",
   "execution_count": 24,
   "id": "c292dca4-2f64-4f52-9463-3959782f1288",
   "metadata": {},
   "outputs": [],
   "source": [
    "train_nodIds = train['noduleID']\n",
    "test_nodIds = test['noduleID']"
   ]
  },
  {
   "cell_type": "code",
   "execution_count": 25,
   "id": "13b55eb3-3c48-4eae-8a89-04ad8fbca8c6",
   "metadata": {},
   "outputs": [],
   "source": [
    "train_nodIds = np.array(train_nodIds)\n",
    "test_nodIds = np.array(test_nodIds)"
   ]
  },
  {
   "cell_type": "code",
   "execution_count": 26,
   "id": "affd06df-294d-4b05-b082-7acb0f5abedf",
   "metadata": {},
   "outputs": [
    {
     "name": "stdout",
     "output_type": "stream",
     "text": [
      "/Users/amalalmansour/Desktop/images_1332\n",
      ".DS_Store\n",
      "Malignancy_2\n",
      "Malignancy_5\n",
      "Malignancy_4\n",
      "Malignancy_3\n",
      "Malignancy_1\n"
     ]
    }
   ],
   "source": [
    "# collect all images for training\n",
    "image_folder = '/Users/amalalmansour/Desktop/images_1332'\n",
    "train_images = []\n",
    "test_images = []\n",
    "train_noduleId = []\n",
    "test_noduleId = []\n",
    "print(image_folder)\n",
    "\n",
    "for dir1 in os.listdir(image_folder):\n",
    "    print(dir1)\n",
    "    if not dir1.startswith('.'):\n",
    "        for file in os.listdir(os.path.join(image_folder, dir1)):\n",
    "            #print(file)\n",
    "            noduleID = file.split('.')[0]\n",
    "            if not file.startswith('.'):\n",
    "                noduleID = int(noduleID)\n",
    "                if noduleID in train_nodIds:\n",
    "                    train_noduleId.append(noduleID)\n",
    "                    temp_image = np.loadtxt(os.path.join(image_folder, dir1,file))\n",
    "                    temp_image = getNormed(temp_image)\n",
    "                    #enlarged_img = getSamePadding(temp_image)\n",
    "                    temp_image = temp_image.flatten()\n",
    "                    train_images.append(temp_image)\n",
    "            \n",
    "                if noduleID in test_nodIds:\n",
    "                    test_noduleId.append(noduleID)\n",
    "                    temp_image = np.loadtxt(os.path.join(image_folder, dir1,file))\n",
    "                    temp_image = getNormed(temp_image)\n",
    "                    temp_image = temp_image.flatten()\n",
    "                    #enlarged_img = getSamePadding(temp_image)\n",
    "                    test_images.append(temp_image)"
   ]
  },
  {
   "cell_type": "code",
   "execution_count": 27,
   "id": "a34d2463-51bc-436e-bff8-5ea19721051e",
   "metadata": {},
   "outputs": [
    {
     "name": "stdout",
     "output_type": "stream",
     "text": [
      "     noduleID\n",
      "0        2412\n",
      "1        2374\n",
      "2         471\n",
      "3        1907\n",
      "4        1496\n",
      "..        ...\n",
      "577       440\n",
      "578       657\n",
      "579      2609\n",
      "580       904\n",
      "581       290\n",
      "\n",
      "[582 rows x 1 columns]\n"
     ]
    }
   ],
   "source": [
    "tr_df = pd.DataFrame(train_noduleId,columns =['noduleID'])\n",
    "print(tr_df)"
   ]
  },
  {
   "cell_type": "code",
   "execution_count": 28,
   "id": "d590b540-59a0-49f5-9ae5-9c4cc7c6d5b3",
   "metadata": {},
   "outputs": [
    {
     "name": "stdout",
     "output_type": "stream",
     "text": [
      "     noduleID\n",
      "0        1252\n",
      "1        1497\n",
      "2        2564\n",
      "3        2558\n",
      "4        1958\n",
      "..        ...\n",
      "140      2421\n",
      "141      1869\n",
      "142      1698\n",
      "143       643\n",
      "144      2594\n",
      "\n",
      "[145 rows x 1 columns]\n"
     ]
    }
   ],
   "source": [
    "te_df = pd.DataFrame(test_noduleId,columns =['noduleID'])\n",
    "print(te_df)"
   ]
  },
  {
   "cell_type": "code",
   "execution_count": 29,
   "id": "8944e9dd-a26d-42ec-a347-896582e3d0c1",
   "metadata": {},
   "outputs": [
    {
     "data": {
      "text/html": [
       "<div>\n",
       "<style scoped>\n",
       "    .dataframe tbody tr th:only-of-type {\n",
       "        vertical-align: middle;\n",
       "    }\n",
       "\n",
       "    .dataframe tbody tr th {\n",
       "        vertical-align: top;\n",
       "    }\n",
       "\n",
       "    .dataframe thead th {\n",
       "        text-align: right;\n",
       "    }\n",
       "</style>\n",
       "<table border=\"1\" class=\"dataframe\">\n",
       "  <thead>\n",
       "    <tr style=\"text-align: right;\">\n",
       "      <th></th>\n",
       "      <th>noduleID</th>\n",
       "      <th>InstanceID</th>\n",
       "      <th>Binary_Rating_Mal</th>\n",
       "      <th>Binary_Rating_Spic</th>\n",
       "    </tr>\n",
       "  </thead>\n",
       "  <tbody>\n",
       "    <tr>\n",
       "      <th>0</th>\n",
       "      <td>1</td>\n",
       "      <td>4</td>\n",
       "      <td>1</td>\n",
       "      <td>3</td>\n",
       "    </tr>\n",
       "    <tr>\n",
       "      <th>1</th>\n",
       "      <td>5</td>\n",
       "      <td>118</td>\n",
       "      <td>3</td>\n",
       "      <td>0</td>\n",
       "    </tr>\n",
       "    <tr>\n",
       "      <th>2</th>\n",
       "      <td>3</td>\n",
       "      <td>134</td>\n",
       "      <td>3</td>\n",
       "      <td>3</td>\n",
       "    </tr>\n",
       "    <tr>\n",
       "      <th>3</th>\n",
       "      <td>4</td>\n",
       "      <td>143</td>\n",
       "      <td>3</td>\n",
       "      <td>3</td>\n",
       "    </tr>\n",
       "    <tr>\n",
       "      <th>4</th>\n",
       "      <td>6</td>\n",
       "      <td>175</td>\n",
       "      <td>0</td>\n",
       "      <td>0</td>\n",
       "    </tr>\n",
       "    <tr>\n",
       "      <th>...</th>\n",
       "      <td>...</td>\n",
       "      <td>...</td>\n",
       "      <td>...</td>\n",
       "      <td>...</td>\n",
       "    </tr>\n",
       "    <tr>\n",
       "      <th>1327</th>\n",
       "      <td>2655</td>\n",
       "      <td>40771</td>\n",
       "      <td>3</td>\n",
       "      <td>0</td>\n",
       "    </tr>\n",
       "    <tr>\n",
       "      <th>1328</th>\n",
       "      <td>2657</td>\n",
       "      <td>40780</td>\n",
       "      <td>1</td>\n",
       "      <td>3</td>\n",
       "    </tr>\n",
       "    <tr>\n",
       "      <th>1329</th>\n",
       "      <td>2656</td>\n",
       "      <td>40794</td>\n",
       "      <td>1</td>\n",
       "      <td>3</td>\n",
       "    </tr>\n",
       "    <tr>\n",
       "      <th>1330</th>\n",
       "      <td>2658</td>\n",
       "      <td>40801</td>\n",
       "      <td>3</td>\n",
       "      <td>3</td>\n",
       "    </tr>\n",
       "    <tr>\n",
       "      <th>1331</th>\n",
       "      <td>2660</td>\n",
       "      <td>40860</td>\n",
       "      <td>0</td>\n",
       "      <td>0</td>\n",
       "    </tr>\n",
       "  </tbody>\n",
       "</table>\n",
       "<p>1332 rows × 4 columns</p>\n",
       "</div>"
      ],
      "text/plain": [
       "      noduleID  InstanceID  Binary_Rating_Mal  Binary_Rating_Spic\n",
       "0            1           4                  1                   3\n",
       "1            5         118                  3                   0\n",
       "2            3         134                  3                   3\n",
       "3            4         143                  3                   3\n",
       "4            6         175                  0                   0\n",
       "...        ...         ...                ...                 ...\n",
       "1327      2655       40771                  3                   0\n",
       "1328      2657       40780                  1                   3\n",
       "1329      2656       40794                  1                   3\n",
       "1330      2658       40801                  3                   3\n",
       "1331      2660       40860                  0                   0\n",
       "\n",
       "[1332 rows x 4 columns]"
      ]
     },
     "metadata": {},
     "output_type": "display_data"
    }
   ],
   "source": [
    "df = pd.read_csv(\"/Users/amalalmansour/Desktop/New_Images/LIDC_LabelANDRating.csv\")\n",
    "display(df)"
   ]
  },
  {
   "cell_type": "code",
   "execution_count": 30,
   "id": "ef4c9781-42fe-4a2f-aae4-97f4500c20e9",
   "metadata": {},
   "outputs": [
    {
     "data": {
      "text/html": [
       "<div>\n",
       "<style scoped>\n",
       "    .dataframe tbody tr th:only-of-type {\n",
       "        vertical-align: middle;\n",
       "    }\n",
       "\n",
       "    .dataframe tbody tr th {\n",
       "        vertical-align: top;\n",
       "    }\n",
       "\n",
       "    .dataframe thead th {\n",
       "        text-align: right;\n",
       "    }\n",
       "</style>\n",
       "<table border=\"1\" class=\"dataframe\">\n",
       "  <thead>\n",
       "    <tr style=\"text-align: right;\">\n",
       "      <th></th>\n",
       "      <th>noduleID</th>\n",
       "      <th>InstanceID</th>\n",
       "      <th>Binary_Rating_Mal</th>\n",
       "      <th>Binary_Rating_Spic</th>\n",
       "    </tr>\n",
       "  </thead>\n",
       "  <tbody>\n",
       "    <tr>\n",
       "      <th>0</th>\n",
       "      <td>2412</td>\n",
       "      <td>36785</td>\n",
       "      <td>0</td>\n",
       "      <td>0</td>\n",
       "    </tr>\n",
       "    <tr>\n",
       "      <th>1</th>\n",
       "      <td>2374</td>\n",
       "      <td>36253</td>\n",
       "      <td>3</td>\n",
       "      <td>0</td>\n",
       "    </tr>\n",
       "    <tr>\n",
       "      <th>2</th>\n",
       "      <td>471</td>\n",
       "      <td>6853</td>\n",
       "      <td>3</td>\n",
       "      <td>0</td>\n",
       "    </tr>\n",
       "    <tr>\n",
       "      <th>3</th>\n",
       "      <td>1907</td>\n",
       "      <td>29039</td>\n",
       "      <td>3</td>\n",
       "      <td>0</td>\n",
       "    </tr>\n",
       "    <tr>\n",
       "      <th>4</th>\n",
       "      <td>1496</td>\n",
       "      <td>22427</td>\n",
       "      <td>0</td>\n",
       "      <td>0</td>\n",
       "    </tr>\n",
       "    <tr>\n",
       "      <th>...</th>\n",
       "      <td>...</td>\n",
       "      <td>...</td>\n",
       "      <td>...</td>\n",
       "      <td>...</td>\n",
       "    </tr>\n",
       "    <tr>\n",
       "      <th>577</th>\n",
       "      <td>440</td>\n",
       "      <td>6517</td>\n",
       "      <td>0</td>\n",
       "      <td>0</td>\n",
       "    </tr>\n",
       "    <tr>\n",
       "      <th>578</th>\n",
       "      <td>657</td>\n",
       "      <td>9498</td>\n",
       "      <td>3</td>\n",
       "      <td>0</td>\n",
       "    </tr>\n",
       "    <tr>\n",
       "      <th>579</th>\n",
       "      <td>2609</td>\n",
       "      <td>39936</td>\n",
       "      <td>0</td>\n",
       "      <td>0</td>\n",
       "    </tr>\n",
       "    <tr>\n",
       "      <th>580</th>\n",
       "      <td>904</td>\n",
       "      <td>13301</td>\n",
       "      <td>0</td>\n",
       "      <td>0</td>\n",
       "    </tr>\n",
       "    <tr>\n",
       "      <th>581</th>\n",
       "      <td>290</td>\n",
       "      <td>4296</td>\n",
       "      <td>0</td>\n",
       "      <td>0</td>\n",
       "    </tr>\n",
       "  </tbody>\n",
       "</table>\n",
       "<p>582 rows × 4 columns</p>\n",
       "</div>"
      ],
      "text/plain": [
       "     noduleID  InstanceID  Binary_Rating_Mal  Binary_Rating_Spic\n",
       "0        2412       36785                  0                   0\n",
       "1        2374       36253                  3                   0\n",
       "2         471        6853                  3                   0\n",
       "3        1907       29039                  3                   0\n",
       "4        1496       22427                  0                   0\n",
       "..        ...         ...                ...                 ...\n",
       "577       440        6517                  0                   0\n",
       "578       657        9498                  3                   0\n",
       "579      2609       39936                  0                   0\n",
       "580       904       13301                  0                   0\n",
       "581       290        4296                  0                   0\n",
       "\n",
       "[582 rows x 4 columns]"
      ]
     },
     "metadata": {},
     "output_type": "display_data"
    }
   ],
   "source": [
    "train_slices = pd.merge(tr_df, df)\n",
    "display(train_slices)"
   ]
  },
  {
   "cell_type": "code",
   "execution_count": 31,
   "id": "36a3d6b8-9998-482e-9b5a-fb99b22e0fd5",
   "metadata": {},
   "outputs": [
    {
     "data": {
      "text/html": [
       "<div>\n",
       "<style scoped>\n",
       "    .dataframe tbody tr th:only-of-type {\n",
       "        vertical-align: middle;\n",
       "    }\n",
       "\n",
       "    .dataframe tbody tr th {\n",
       "        vertical-align: top;\n",
       "    }\n",
       "\n",
       "    .dataframe thead th {\n",
       "        text-align: right;\n",
       "    }\n",
       "</style>\n",
       "<table border=\"1\" class=\"dataframe\">\n",
       "  <thead>\n",
       "    <tr style=\"text-align: right;\">\n",
       "      <th></th>\n",
       "      <th>noduleID</th>\n",
       "      <th>InstanceID</th>\n",
       "      <th>Binary_Rating_Mal</th>\n",
       "      <th>Binary_Rating_Spic</th>\n",
       "    </tr>\n",
       "  </thead>\n",
       "  <tbody>\n",
       "    <tr>\n",
       "      <th>0</th>\n",
       "      <td>1252</td>\n",
       "      <td>18823</td>\n",
       "      <td>3</td>\n",
       "      <td>0</td>\n",
       "    </tr>\n",
       "    <tr>\n",
       "      <th>1</th>\n",
       "      <td>1497</td>\n",
       "      <td>22434</td>\n",
       "      <td>3</td>\n",
       "      <td>0</td>\n",
       "    </tr>\n",
       "    <tr>\n",
       "      <th>2</th>\n",
       "      <td>2564</td>\n",
       "      <td>39328</td>\n",
       "      <td>0</td>\n",
       "      <td>1</td>\n",
       "    </tr>\n",
       "    <tr>\n",
       "      <th>3</th>\n",
       "      <td>2558</td>\n",
       "      <td>39203</td>\n",
       "      <td>3</td>\n",
       "      <td>0</td>\n",
       "    </tr>\n",
       "    <tr>\n",
       "      <th>4</th>\n",
       "      <td>1958</td>\n",
       "      <td>29602</td>\n",
       "      <td>0</td>\n",
       "      <td>0</td>\n",
       "    </tr>\n",
       "    <tr>\n",
       "      <th>...</th>\n",
       "      <td>...</td>\n",
       "      <td>...</td>\n",
       "      <td>...</td>\n",
       "      <td>...</td>\n",
       "    </tr>\n",
       "    <tr>\n",
       "      <th>140</th>\n",
       "      <td>2421</td>\n",
       "      <td>36955</td>\n",
       "      <td>0</td>\n",
       "      <td>0</td>\n",
       "    </tr>\n",
       "    <tr>\n",
       "      <th>141</th>\n",
       "      <td>1869</td>\n",
       "      <td>28376</td>\n",
       "      <td>0</td>\n",
       "      <td>0</td>\n",
       "    </tr>\n",
       "    <tr>\n",
       "      <th>142</th>\n",
       "      <td>1698</td>\n",
       "      <td>25416</td>\n",
       "      <td>0</td>\n",
       "      <td>0</td>\n",
       "    </tr>\n",
       "    <tr>\n",
       "      <th>143</th>\n",
       "      <td>643</td>\n",
       "      <td>9251</td>\n",
       "      <td>0</td>\n",
       "      <td>0</td>\n",
       "    </tr>\n",
       "    <tr>\n",
       "      <th>144</th>\n",
       "      <td>2594</td>\n",
       "      <td>39806</td>\n",
       "      <td>0</td>\n",
       "      <td>0</td>\n",
       "    </tr>\n",
       "  </tbody>\n",
       "</table>\n",
       "<p>145 rows × 4 columns</p>\n",
       "</div>"
      ],
      "text/plain": [
       "     noduleID  InstanceID  Binary_Rating_Mal  Binary_Rating_Spic\n",
       "0        1252       18823                  3                   0\n",
       "1        1497       22434                  3                   0\n",
       "2        2564       39328                  0                   1\n",
       "3        2558       39203                  3                   0\n",
       "4        1958       29602                  0                   0\n",
       "..        ...         ...                ...                 ...\n",
       "140      2421       36955                  0                   0\n",
       "141      1869       28376                  0                   0\n",
       "142      1698       25416                  0                   0\n",
       "143       643        9251                  0                   0\n",
       "144      2594       39806                  0                   0\n",
       "\n",
       "[145 rows x 4 columns]"
      ]
     },
     "metadata": {},
     "output_type": "display_data"
    }
   ],
   "source": [
    "test_slices = pd.merge(te_df, df)\n",
    "display(test_slices)"
   ]
  },
  {
   "cell_type": "code",
   "execution_count": 32,
   "id": "089c305c-79bb-44dd-859e-9f1843be1fb4",
   "metadata": {},
   "outputs": [
    {
     "name": "stdout",
     "output_type": "stream",
     "text": [
      "582\n",
      "145\n"
     ]
    }
   ],
   "source": [
    "train_images = np.array(train_images)\n",
    "print(len(train_images))\n",
    "test_images = np.array(test_images)\n",
    "print(len(test_images))"
   ]
  },
  {
   "cell_type": "code",
   "execution_count": 33,
   "id": "21251b62-4638-414e-a83c-fb769a72629c",
   "metadata": {},
   "outputs": [],
   "source": [
    "output_file1 = '/Users/amalalmansour/Desktop/train_spic_images.csv'\n",
    "np.savetxt(output_file1, train_images, fmt= '%s', delimiter=',')"
   ]
  },
  {
   "cell_type": "code",
   "execution_count": 34,
   "id": "6b22800f-d7e3-46b5-9371-c3c99e077464",
   "metadata": {},
   "outputs": [],
   "source": [
    "output_file2 = '/Users/amalalmansour/Desktop/test_spic_images.csv'\n",
    "np.savetxt(output_file2, test_images, fmt= '%s', delimiter=',')"
   ]
  },
  {
   "cell_type": "code",
   "execution_count": 35,
   "id": "18a5135b-ccf1-40ea-b780-2be32fa35cf1",
   "metadata": {},
   "outputs": [],
   "source": [
    "output_file3 = '/Users/amalalmansour/Desktop/train_noduleId.csv'\n",
    "np.savetxt(output_file3, train_noduleId, fmt= '%s', delimiter=',')"
   ]
  },
  {
   "cell_type": "code",
   "execution_count": 36,
   "id": "94258c14-4c11-4ecc-9515-2c7ce7945d34",
   "metadata": {},
   "outputs": [],
   "source": [
    "output_file4 = '/Users/amalalmansour/Desktop/train_slices.csv'\n",
    "np.savetxt(output_file4, train_slices, fmt= '%s', delimiter=',')"
   ]
  },
  {
   "cell_type": "code",
   "execution_count": 37,
   "id": "cdeb0450-5323-4d87-bc89-3f0a567a08d4",
   "metadata": {},
   "outputs": [],
   "source": [
    "output_file5 = '/Users/amalalmansour/Desktop/test_noduleId.csv'\n",
    "np.savetxt(output_file5, test_noduleId, fmt= '%s', delimiter=',')"
   ]
  },
  {
   "cell_type": "markdown",
   "id": "bfe72e63-602a-4f86-ba68-2cf8ded45366",
   "metadata": {},
   "source": [
    "Test Pixel ---> all pixels values for the validation data\n",
    "\n",
    "TrainPixel   --> all pixel values for testing data"
   ]
  },
  {
   "cell_type": "code",
   "execution_count": 38,
   "id": "a671b1b7-3ea4-4e7c-b36c-4d23bc53ff98",
   "metadata": {},
   "outputs": [],
   "source": [
    "train = pd.read_csv('/Users/amalalmansour/Desktop/train_spic_images.csv')"
   ]
  },
  {
   "cell_type": "code",
   "execution_count": 39,
   "id": "5e64ae82-a46b-44a4-9970-daaa4f94abac",
   "metadata": {},
   "outputs": [
    {
     "data": {
      "text/html": [
       "<div>\n",
       "<style scoped>\n",
       "    .dataframe tbody tr th:only-of-type {\n",
       "        vertical-align: middle;\n",
       "    }\n",
       "\n",
       "    .dataframe tbody tr th {\n",
       "        vertical-align: top;\n",
       "    }\n",
       "\n",
       "    .dataframe thead th {\n",
       "        text-align: right;\n",
       "    }\n",
       "</style>\n",
       "<table border=\"1\" class=\"dataframe\">\n",
       "  <thead>\n",
       "    <tr style=\"text-align: right;\">\n",
       "      <th></th>\n",
       "      <th>9</th>\n",
       "      <th>7</th>\n",
       "      <th>5</th>\n",
       "      <th>7.1</th>\n",
       "      <th>16</th>\n",
       "      <th>24</th>\n",
       "      <th>21</th>\n",
       "      <th>18</th>\n",
       "      <th>21.1</th>\n",
       "      <th>23</th>\n",
       "      <th>...</th>\n",
       "      <th>148.43</th>\n",
       "      <th>145.48</th>\n",
       "      <th>147.46</th>\n",
       "      <th>153.12</th>\n",
       "      <th>155.16</th>\n",
       "      <th>160.7</th>\n",
       "      <th>158.13</th>\n",
       "      <th>153.13</th>\n",
       "      <th>154.24</th>\n",
       "      <th>152.26</th>\n",
       "    </tr>\n",
       "  </thead>\n",
       "  <tbody>\n",
       "    <tr>\n",
       "      <th>0</th>\n",
       "      <td>3</td>\n",
       "      <td>2</td>\n",
       "      <td>3</td>\n",
       "      <td>4</td>\n",
       "      <td>3</td>\n",
       "      <td>4</td>\n",
       "      <td>5</td>\n",
       "      <td>6</td>\n",
       "      <td>6</td>\n",
       "      <td>5</td>\n",
       "      <td>...</td>\n",
       "      <td>82</td>\n",
       "      <td>83</td>\n",
       "      <td>85</td>\n",
       "      <td>85</td>\n",
       "      <td>87</td>\n",
       "      <td>90</td>\n",
       "      <td>92</td>\n",
       "      <td>92</td>\n",
       "      <td>92</td>\n",
       "      <td>91</td>\n",
       "    </tr>\n",
       "    <tr>\n",
       "      <th>1</th>\n",
       "      <td>13</td>\n",
       "      <td>24</td>\n",
       "      <td>18</td>\n",
       "      <td>8</td>\n",
       "      <td>7</td>\n",
       "      <td>8</td>\n",
       "      <td>8</td>\n",
       "      <td>8</td>\n",
       "      <td>8</td>\n",
       "      <td>8</td>\n",
       "      <td>...</td>\n",
       "      <td>221</td>\n",
       "      <td>253</td>\n",
       "      <td>221</td>\n",
       "      <td>222</td>\n",
       "      <td>215</td>\n",
       "      <td>198</td>\n",
       "      <td>210</td>\n",
       "      <td>232</td>\n",
       "      <td>219</td>\n",
       "      <td>180</td>\n",
       "    </tr>\n",
       "    <tr>\n",
       "      <th>2</th>\n",
       "      <td>56</td>\n",
       "      <td>74</td>\n",
       "      <td>97</td>\n",
       "      <td>113</td>\n",
       "      <td>127</td>\n",
       "      <td>145</td>\n",
       "      <td>151</td>\n",
       "      <td>148</td>\n",
       "      <td>158</td>\n",
       "      <td>163</td>\n",
       "      <td>...</td>\n",
       "      <td>15</td>\n",
       "      <td>17</td>\n",
       "      <td>15</td>\n",
       "      <td>13</td>\n",
       "      <td>12</td>\n",
       "      <td>10</td>\n",
       "      <td>13</td>\n",
       "      <td>14</td>\n",
       "      <td>9</td>\n",
       "      <td>12</td>\n",
       "    </tr>\n",
       "    <tr>\n",
       "      <th>3</th>\n",
       "      <td>143</td>\n",
       "      <td>145</td>\n",
       "      <td>142</td>\n",
       "      <td>146</td>\n",
       "      <td>154</td>\n",
       "      <td>154</td>\n",
       "      <td>151</td>\n",
       "      <td>163</td>\n",
       "      <td>161</td>\n",
       "      <td>173</td>\n",
       "      <td>...</td>\n",
       "      <td>13</td>\n",
       "      <td>11</td>\n",
       "      <td>10</td>\n",
       "      <td>11</td>\n",
       "      <td>13</td>\n",
       "      <td>16</td>\n",
       "      <td>19</td>\n",
       "      <td>15</td>\n",
       "      <td>12</td>\n",
       "      <td>11</td>\n",
       "    </tr>\n",
       "    <tr>\n",
       "      <th>4</th>\n",
       "      <td>165</td>\n",
       "      <td>158</td>\n",
       "      <td>156</td>\n",
       "      <td>160</td>\n",
       "      <td>161</td>\n",
       "      <td>158</td>\n",
       "      <td>160</td>\n",
       "      <td>161</td>\n",
       "      <td>160</td>\n",
       "      <td>162</td>\n",
       "      <td>...</td>\n",
       "      <td>15</td>\n",
       "      <td>19</td>\n",
       "      <td>19</td>\n",
       "      <td>17</td>\n",
       "      <td>30</td>\n",
       "      <td>47</td>\n",
       "      <td>38</td>\n",
       "      <td>21</td>\n",
       "      <td>20</td>\n",
       "      <td>17</td>\n",
       "    </tr>\n",
       "    <tr>\n",
       "      <th>...</th>\n",
       "      <td>...</td>\n",
       "      <td>...</td>\n",
       "      <td>...</td>\n",
       "      <td>...</td>\n",
       "      <td>...</td>\n",
       "      <td>...</td>\n",
       "      <td>...</td>\n",
       "      <td>...</td>\n",
       "      <td>...</td>\n",
       "      <td>...</td>\n",
       "      <td>...</td>\n",
       "      <td>...</td>\n",
       "      <td>...</td>\n",
       "      <td>...</td>\n",
       "      <td>...</td>\n",
       "      <td>...</td>\n",
       "      <td>...</td>\n",
       "      <td>...</td>\n",
       "      <td>...</td>\n",
       "      <td>...</td>\n",
       "      <td>...</td>\n",
       "    </tr>\n",
       "    <tr>\n",
       "      <th>576</th>\n",
       "      <td>89</td>\n",
       "      <td>84</td>\n",
       "      <td>95</td>\n",
       "      <td>95</td>\n",
       "      <td>95</td>\n",
       "      <td>80</td>\n",
       "      <td>103</td>\n",
       "      <td>101</td>\n",
       "      <td>87</td>\n",
       "      <td>80</td>\n",
       "      <td>...</td>\n",
       "      <td>70</td>\n",
       "      <td>88</td>\n",
       "      <td>75</td>\n",
       "      <td>81</td>\n",
       "      <td>82</td>\n",
       "      <td>71</td>\n",
       "      <td>77</td>\n",
       "      <td>76</td>\n",
       "      <td>75</td>\n",
       "      <td>77</td>\n",
       "    </tr>\n",
       "    <tr>\n",
       "      <th>577</th>\n",
       "      <td>17</td>\n",
       "      <td>13</td>\n",
       "      <td>15</td>\n",
       "      <td>19</td>\n",
       "      <td>14</td>\n",
       "      <td>16</td>\n",
       "      <td>32</td>\n",
       "      <td>44</td>\n",
       "      <td>38</td>\n",
       "      <td>23</td>\n",
       "      <td>...</td>\n",
       "      <td>20</td>\n",
       "      <td>12</td>\n",
       "      <td>12</td>\n",
       "      <td>15</td>\n",
       "      <td>15</td>\n",
       "      <td>22</td>\n",
       "      <td>23</td>\n",
       "      <td>16</td>\n",
       "      <td>15</td>\n",
       "      <td>21</td>\n",
       "    </tr>\n",
       "    <tr>\n",
       "      <th>578</th>\n",
       "      <td>126</td>\n",
       "      <td>103</td>\n",
       "      <td>111</td>\n",
       "      <td>129</td>\n",
       "      <td>106</td>\n",
       "      <td>113</td>\n",
       "      <td>103</td>\n",
       "      <td>100</td>\n",
       "      <td>111</td>\n",
       "      <td>103</td>\n",
       "      <td>...</td>\n",
       "      <td>10</td>\n",
       "      <td>14</td>\n",
       "      <td>16</td>\n",
       "      <td>12</td>\n",
       "      <td>8</td>\n",
       "      <td>5</td>\n",
       "      <td>13</td>\n",
       "      <td>20</td>\n",
       "      <td>9</td>\n",
       "      <td>15</td>\n",
       "    </tr>\n",
       "    <tr>\n",
       "      <th>579</th>\n",
       "      <td>10</td>\n",
       "      <td>11</td>\n",
       "      <td>11</td>\n",
       "      <td>8</td>\n",
       "      <td>9</td>\n",
       "      <td>9</td>\n",
       "      <td>10</td>\n",
       "      <td>9</td>\n",
       "      <td>8</td>\n",
       "      <td>8</td>\n",
       "      <td>...</td>\n",
       "      <td>45</td>\n",
       "      <td>48</td>\n",
       "      <td>51</td>\n",
       "      <td>54</td>\n",
       "      <td>56</td>\n",
       "      <td>59</td>\n",
       "      <td>63</td>\n",
       "      <td>68</td>\n",
       "      <td>71</td>\n",
       "      <td>75</td>\n",
       "    </tr>\n",
       "    <tr>\n",
       "      <th>580</th>\n",
       "      <td>4</td>\n",
       "      <td>5</td>\n",
       "      <td>5</td>\n",
       "      <td>6</td>\n",
       "      <td>5</td>\n",
       "      <td>5</td>\n",
       "      <td>6</td>\n",
       "      <td>6</td>\n",
       "      <td>5</td>\n",
       "      <td>7</td>\n",
       "      <td>...</td>\n",
       "      <td>89</td>\n",
       "      <td>88</td>\n",
       "      <td>87</td>\n",
       "      <td>89</td>\n",
       "      <td>91</td>\n",
       "      <td>90</td>\n",
       "      <td>87</td>\n",
       "      <td>91</td>\n",
       "      <td>91</td>\n",
       "      <td>88</td>\n",
       "    </tr>\n",
       "  </tbody>\n",
       "</table>\n",
       "<p>581 rows × 5041 columns</p>\n",
       "</div>"
      ],
      "text/plain": [
       "       9    7    5  7.1   16   24   21   18  21.1   23  ...  148.43  145.48  \\\n",
       "0      3    2    3    4    3    4    5    6     6    5  ...      82      83   \n",
       "1     13   24   18    8    7    8    8    8     8    8  ...     221     253   \n",
       "2     56   74   97  113  127  145  151  148   158  163  ...      15      17   \n",
       "3    143  145  142  146  154  154  151  163   161  173  ...      13      11   \n",
       "4    165  158  156  160  161  158  160  161   160  162  ...      15      19   \n",
       "..   ...  ...  ...  ...  ...  ...  ...  ...   ...  ...  ...     ...     ...   \n",
       "576   89   84   95   95   95   80  103  101    87   80  ...      70      88   \n",
       "577   17   13   15   19   14   16   32   44    38   23  ...      20      12   \n",
       "578  126  103  111  129  106  113  103  100   111  103  ...      10      14   \n",
       "579   10   11   11    8    9    9   10    9     8    8  ...      45      48   \n",
       "580    4    5    5    6    5    5    6    6     5    7  ...      89      88   \n",
       "\n",
       "     147.46  153.12  155.16  160.7  158.13  153.13  154.24  152.26  \n",
       "0        85      85      87     90      92      92      92      91  \n",
       "1       221     222     215    198     210     232     219     180  \n",
       "2        15      13      12     10      13      14       9      12  \n",
       "3        10      11      13     16      19      15      12      11  \n",
       "4        19      17      30     47      38      21      20      17  \n",
       "..      ...     ...     ...    ...     ...     ...     ...     ...  \n",
       "576      75      81      82     71      77      76      75      77  \n",
       "577      12      15      15     22      23      16      15      21  \n",
       "578      16      12       8      5      13      20       9      15  \n",
       "579      51      54      56     59      63      68      71      75  \n",
       "580      87      89      91     90      87      91      91      88  \n",
       "\n",
       "[581 rows x 5041 columns]"
      ]
     },
     "metadata": {},
     "output_type": "display_data"
    }
   ],
   "source": [
    "display(train)"
   ]
  },
  {
   "cell_type": "code",
   "execution_count": 51,
   "id": "27ac7ca0-2ce1-414d-88ea-8baa6073b928",
   "metadata": {},
   "outputs": [],
   "source": [
    "filepath ='/Users/amalalmansour/Desktop/New_Images/Malignancy/Siamese/instanceID_Pairs/'"
   ]
  },
  {
   "cell_type": "code",
   "execution_count": 55,
   "id": "33ceb400-343e-49e3-b464-c9f714368980",
   "metadata": {},
   "outputs": [],
   "source": [
    "dfPos = pd.read_csv(filepath + \"TestPosPairs.csv\")\n",
    "dfNeg = pd.read_csv(filepath + \"TestNegPairs.csv\")"
   ]
  },
  {
   "cell_type": "code",
   "execution_count": 56,
   "id": "68791ea4-281a-487b-a605-7b5798e79dc5",
   "metadata": {},
   "outputs": [
    {
     "data": {
      "text/plain": [
       "2798"
      ]
     },
     "execution_count": 56,
     "metadata": {},
     "output_type": "execute_result"
    }
   ],
   "source": [
    "len(dfPos)"
   ]
  },
  {
   "cell_type": "code",
   "execution_count": 57,
   "id": "d399bd1a-0ff2-4426-bf34-3e09cee918ca",
   "metadata": {},
   "outputs": [
    {
     "data": {
      "text/plain": [
       "4512"
      ]
     },
     "execution_count": 57,
     "metadata": {},
     "output_type": "execute_result"
    }
   ],
   "source": [
    "len(dfNeg)"
   ]
  },
  {
   "cell_type": "code",
   "execution_count": null,
   "id": "b79f5aae-f6ea-4d55-9a73-436752cc26cd",
   "metadata": {},
   "outputs": [],
   "source": [
    "dfPos1 = dfPos[0:20000]\n",
    "dfNeg1 = dfNeg[0:20000]\n",
    "len(dfPos1)"
   ]
  },
  {
   "cell_type": "code",
   "execution_count": null,
   "id": "7914ba85-1c30-4491-85c5-b419161ec7d3",
   "metadata": {},
   "outputs": [],
   "source": [
    "dfPos2 = dfPos[20000:40000]\n",
    "dfNeg2 = dfNeg[20000:40000]\n",
    "len(dfPos2)"
   ]
  },
  {
   "cell_type": "code",
   "execution_count": null,
   "id": "dd51b6a0-bc8a-4412-b11d-0a86c72cf125",
   "metadata": {},
   "outputs": [],
   "source": [
    "dfPos3 = dfPos[40000:60000]\n",
    "dfNeg3 = dfNeg[40000:60000]\n",
    "len(dfPos3)"
   ]
  },
  {
   "cell_type": "code",
   "execution_count": null,
   "id": "d148c4e5-9553-4a86-ac1c-49885db42c0d",
   "metadata": {},
   "outputs": [],
   "source": [
    "dfPos4 = dfPos[60000:80000]\n",
    "dfNeg4 = dfNeg[60000:80000]\n",
    "len(dfNeg4)"
   ]
  },
  {
   "cell_type": "code",
   "execution_count": null,
   "id": "ca0d130c-670d-4c2a-9e23-2708c00c6093",
   "metadata": {},
   "outputs": [],
   "source": [
    "dfPos5 = dfPos[80000:85312]\n",
    "dfNeg5 = dfNeg[80000:85312]\n",
    "len(dfNeg5)"
   ]
  },
  {
   "cell_type": "code",
   "execution_count": null,
   "id": "774defa2-0b03-405c-8111-6086b948a532",
   "metadata": {},
   "outputs": [],
   "source": [
    "dfPos6 = dfPos[100000:120000]\n",
    "dfNeg6 = dfNeg[100000:120000]\n",
    "len(dfNeg6)"
   ]
  },
  {
   "cell_type": "code",
   "execution_count": null,
   "id": "45dd63ad-06fd-4a1e-a509-cbddb34e429e",
   "metadata": {},
   "outputs": [],
   "source": [
    "dfPos7 = dfPos[120000:140000]\n",
    "dfNeg7 = dfNeg[120000:140000]\n",
    "len(dfNeg7)"
   ]
  },
  {
   "cell_type": "code",
   "execution_count": null,
   "id": "888bd8bc-5e52-442f-962b-0da4245f85fa",
   "metadata": {},
   "outputs": [],
   "source": [
    "dfPos8 = dfPos[140000:160000]\n",
    "dfNeg8 = dfNeg[140000:160000]\n",
    "len(dfNeg8)"
   ]
  },
  {
   "cell_type": "code",
   "execution_count": null,
   "id": "2e8a2b24-8081-40ff-910a-29fb1a247876",
   "metadata": {},
   "outputs": [],
   "source": [
    "dfPos9 = dfPos[160000:180000]\n",
    "dfNeg9 = dfNeg[160000:180000]\n",
    "len(dfNeg9)"
   ]
  },
  {
   "cell_type": "code",
   "execution_count": null,
   "id": "d43f1a70-b8ad-4134-a8b6-e2c4bb1633e4",
   "metadata": {},
   "outputs": [],
   "source": [
    "dfPos10 = dfPos[180000:200000]\n",
    "dfNeg10 = dfNeg[180000:200000]\n",
    "len(dfNeg10)"
   ]
  },
  {
   "cell_type": "code",
   "execution_count": null,
   "id": "638c82df-bde6-4e78-806d-728e150d382d",
   "metadata": {},
   "outputs": [],
   "source": [
    "dfPos11 = dfPos[200000:220000]\n",
    "#dfNeg11 = dfNeg[200000:220000]\n",
    "#len(dfNeg11)"
   ]
  },
  {
   "cell_type": "code",
   "execution_count": null,
   "id": "3a7b2a40-e74d-4c27-a372-16ef330b3e0d",
   "metadata": {},
   "outputs": [],
   "source": [
    "dfPos12 = dfPos[220000:237656]\n",
    "#dfNeg12 = dfNeg[220000:240000]\n",
    "#len(dfPos12)"
   ]
  },
  {
   "cell_type": "code",
   "execution_count": null,
   "id": "9a5f614f-71ab-4748-ab7b-a7033b17aad7",
   "metadata": {},
   "outputs": [],
   "source": [
    "dfPos13 = dfPos[240000:246776]\n",
    "dfNeg13 = dfNeg[240000:246776]\n",
    "#len(dfPos13)"
   ]
  },
  {
   "cell_type": "code",
   "execution_count": null,
   "id": "4631e120-187c-447e-935a-6ef15b1b7193",
   "metadata": {},
   "outputs": [],
   "source": [
    "dfPos14 = dfPos[260000:280000]\n",
    "#dfNeg14 = dfNeg[260000:280000]\n",
    "#len(dfPos14)"
   ]
  },
  {
   "cell_type": "code",
   "execution_count": null,
   "id": "b748fc7e-675e-4081-aff6-32b115751c12",
   "metadata": {},
   "outputs": [],
   "source": [
    "dfPos15 = dfPos[280000:300000]\n",
    "#dfNeg15 = dfNeg[280000:300000]\n",
    "#len(dfPos15)"
   ]
  },
  {
   "cell_type": "code",
   "execution_count": null,
   "id": "23098259-4866-4008-b0e7-41d55d6de717",
   "metadata": {},
   "outputs": [],
   "source": [
    "dfPos16 = dfPos[300000:320000]\n",
    "#dfNeg16 = dfNeg[300000:320000]\n",
    "#len(dfPos16)"
   ]
  },
  {
   "cell_type": "code",
   "execution_count": null,
   "id": "f42db3c5-552c-4bd9-aa39-d8e0cd0807ef",
   "metadata": {},
   "outputs": [],
   "source": [
    "dfPos17 = dfPos[320000:340000]\n",
    "#dfNeg17 = dfNeg[320000:340000]\n",
    "#len(dfPos17)"
   ]
  },
  {
   "cell_type": "code",
   "execution_count": null,
   "id": "a07e2280-8276-4451-9d70-88d37c60d359",
   "metadata": {},
   "outputs": [],
   "source": [
    "dfPos18 = dfPos[340000:360000]\n",
    "#dfNeg18 = dfNeg[340000:360000]"
   ]
  },
  {
   "cell_type": "code",
   "execution_count": null,
   "id": "66f50679-a6cb-41fe-9748-203046c3fe1a",
   "metadata": {},
   "outputs": [],
   "source": [
    "dfPos19 = dfPos[360000:380000]\n",
    "#dfNeg19 = dfNeg[360000:380000]\n",
    "#len(dfPos19)"
   ]
  },
  {
   "cell_type": "code",
   "execution_count": null,
   "id": "f8848c49-89e0-4f1b-a12e-d0b5be06369b",
   "metadata": {},
   "outputs": [],
   "source": [
    "dfPos20 = dfPos[380000:400000]\n",
    "#dfNeg20 = dfNeg[380000:400000]\n",
    "#len(dfPos20)"
   ]
  },
  {
   "cell_type": "code",
   "execution_count": null,
   "id": "aabf6401-ce3c-4a9b-aaef-77992d8c5233",
   "metadata": {},
   "outputs": [],
   "source": [
    "pairs = []\n",
    "labels = []\n",
    "instanceID = []\n",
    "\n",
    "print(\"create pairs running ...\")"
   ]
  },
  {
   "cell_type": "code",
   "execution_count": null,
   "id": "6f1d4e43-99af-4596-8214-34e84e86ac2a",
   "metadata": {},
   "outputs": [],
   "source": [
    "#my computer would only let me run 20,000 before the memory filled up \n",
    "for i in range(5312):\n",
    "\n",
    "    pos0 = dfPos5.iloc[i][0]\n",
    "    pos1 = dfPos5.iloc[i][1]\n",
    "    neg0 = dfNeg5.iloc[i][0]\n",
    "    neg1 = dfNeg5.iloc[i][1]\n",
    "    \n",
    "    instanceID +=  [(pos0, pos1),(neg0, neg1)]\n",
    "    \n",
    "    # locate the image pairs\n",
    "    pos0Arr = (train.loc[train['instanceID']==pos0])\n",
    "    pos1Arr = (train.loc[train['instanceID']==pos1])\n",
    "    neg0Arr = (train.loc[train['instanceID']==neg0])\n",
    "    neg1Arr = (train.loc[train['instanceID']==neg1])\n",
    "\n",
    "    # We get the images from the pairs \n",
    "    pos0Arr = pos0Arr.drop(['instanceID'],  axis=1)\n",
    "    pos1Arr = pos1Arr.drop(['instanceID'],  axis=1)\n",
    "    neg0Arr = neg0Arr.drop(['instanceID'],  axis=1)\n",
    "    neg1Arr = neg1Arr.drop(['instanceID'],  axis=1)\n",
    "    \n",
    "    pos0Arr = pos0Arr.to_numpy().reshape(-1, 71, 71)\n",
    "    pos1Arr = pos1Arr.to_numpy().reshape(-1, 71, 71)\n",
    "    neg0Arr = neg0Arr.to_numpy().reshape(-1, 71, 71)\n",
    "    neg1Arr = neg1Arr.to_numpy().reshape(-1, 71, 71)\n",
    "\n",
    "    POS0 = pos0Arr[0]\n",
    "    POS1 = pos1Arr[0]\n",
    "    NEG0 = neg0Arr[0]\n",
    "    NEG1 = neg1Arr[0]\n",
    "\n",
    "    pairs += [(POS0, POS1)]\n",
    "    pairs += [(NEG0, NEG1)]\n",
    "    labels += [1, 0]\n",
    "  \n",
    "print(\"create pairs DONE\")"
   ]
  },
  {
   "cell_type": "code",
   "execution_count": null,
   "id": "61e70ef2-31c3-48ae-a5c4-03d156291aee",
   "metadata": {},
   "outputs": [],
   "source": [
    "pickle_out = open(\"/Users/amalalmansour/Desktop/New_Images/Spiculation/Siamese/pickle/TrainLabels5.pickle\", \"wb\")\n",
    "pickle.dump(labels, pickle_out)\n",
    "pickle_out.close()"
   ]
  },
  {
   "cell_type": "code",
   "execution_count": null,
   "id": "a39027a6-1d71-4b3a-b72d-a312976287d8",
   "metadata": {},
   "outputs": [],
   "source": [
    "pickle_out1 = open(\"/Users/amalalmansour/Desktop/New_Images/Spiculation/Siamese/pickle/TrainPairs5.pickle\", \"wb\")\n",
    "pickle.dump(pairs, pickle_out1)\n",
    "pickle_out1.close()"
   ]
  },
  {
   "cell_type": "code",
   "execution_count": null,
   "id": "d6fa6334-54c6-49c9-b6c6-f34676cb4192",
   "metadata": {},
   "outputs": [],
   "source": [
    "pairs = []\n",
    "labels = []\n",
    "instanceID = []"
   ]
  },
  {
   "cell_type": "code",
   "execution_count": null,
   "id": "8f0558bf-d4f1-4bdf-86b1-0ddc434fd1c5",
   "metadata": {},
   "outputs": [],
   "source": []
  }
 ],
 "metadata": {
  "kernelspec": {
   "display_name": "Python 3",
   "language": "python",
   "name": "python3"
  },
  "language_info": {
   "codemirror_mode": {
    "name": "ipython",
    "version": 3
   },
   "file_extension": ".py",
   "mimetype": "text/x-python",
   "name": "python",
   "nbconvert_exporter": "python",
   "pygments_lexer": "ipython3",
   "version": "3.9.7"
  }
 },
 "nbformat": 4,
 "nbformat_minor": 5
}
