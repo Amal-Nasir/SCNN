{
 "cells": [
  {
   "cell_type": "code",
   "execution_count": 1,
   "id": "59744547-95c1-4498-af2a-dd3e410eaa09",
   "metadata": {},
   "outputs": [
    {
     "name": "stdout",
     "output_type": "stream",
     "text": [
      "/Users/amalalmansour/miniforge3/envs/env_tensorflow/bin/python\n"
     ]
    }
   ],
   "source": [
    " import sys\n",
    " print(sys.executable)"
   ]
  },
  {
   "cell_type": "markdown",
   "id": "7e424a1d-125e-4f00-8e90-d2b9b29cf4c3",
   "metadata": {},
   "source": [
    "## CreatePairs.py"
   ]
  },
  {
   "cell_type": "code",
   "execution_count": 2,
   "id": "3df0cb91-86ce-46df-afbb-e4ce85ada3cb",
   "metadata": {},
   "outputs": [],
   "source": [
    "import pandas as pd\n",
    "import numpy"
   ]
  },
  {
   "cell_type": "code",
   "execution_count": 3,
   "id": "049b61cb-cc75-4b50-856c-04c510d1903b",
   "metadata": {},
   "outputs": [],
   "source": [
    "df_te = pd.read_csv(\"/Users/amalalmansour/Desktop/New_Images/Spiculation/Test.csv\")"
   ]
  },
  {
   "cell_type": "code",
   "execution_count": 4,
   "id": "ee26f037-8e84-41da-95ff-b61e6445f54b",
   "metadata": {},
   "outputs": [],
   "source": [
    "#df_te = df_te.drop(columns=['noduleID', 'Dataset','Category'])"
   ]
  },
  {
   "cell_type": "code",
   "execution_count": 5,
   "id": "4021964b-eed1-484c-b752-d2afbe343331",
   "metadata": {},
   "outputs": [
    {
     "data": {
      "text/html": [
       "<div>\n",
       "<style scoped>\n",
       "    .dataframe tbody tr th:only-of-type {\n",
       "        vertical-align: middle;\n",
       "    }\n",
       "\n",
       "    .dataframe tbody tr th {\n",
       "        vertical-align: top;\n",
       "    }\n",
       "\n",
       "    .dataframe thead th {\n",
       "        text-align: right;\n",
       "    }\n",
       "</style>\n",
       "<table border=\"1\" class=\"dataframe\">\n",
       "  <thead>\n",
       "    <tr style=\"text-align: right;\">\n",
       "      <th></th>\n",
       "      <th>InstanceID</th>\n",
       "      <th>noduleID</th>\n",
       "      <th>Binary_Rating_Spic</th>\n",
       "    </tr>\n",
       "  </thead>\n",
       "  <tbody>\n",
       "    <tr>\n",
       "      <th>0</th>\n",
       "      <td>270</td>\n",
       "      <td>15</td>\n",
       "      <td>1</td>\n",
       "    </tr>\n",
       "    <tr>\n",
       "      <th>1</th>\n",
       "      <td>425</td>\n",
       "      <td>34</td>\n",
       "      <td>0</td>\n",
       "    </tr>\n",
       "    <tr>\n",
       "      <th>2</th>\n",
       "      <td>487</td>\n",
       "      <td>42</td>\n",
       "      <td>0</td>\n",
       "    </tr>\n",
       "    <tr>\n",
       "      <th>3</th>\n",
       "      <td>515</td>\n",
       "      <td>36</td>\n",
       "      <td>0</td>\n",
       "    </tr>\n",
       "    <tr>\n",
       "      <th>4</th>\n",
       "      <td>1364</td>\n",
       "      <td>105</td>\n",
       "      <td>0</td>\n",
       "    </tr>\n",
       "    <tr>\n",
       "      <th>...</th>\n",
       "      <td>...</td>\n",
       "      <td>...</td>\n",
       "      <td>...</td>\n",
       "    </tr>\n",
       "    <tr>\n",
       "      <th>140</th>\n",
       "      <td>39376</td>\n",
       "      <td>2567</td>\n",
       "      <td>0</td>\n",
       "    </tr>\n",
       "    <tr>\n",
       "      <th>141</th>\n",
       "      <td>39440</td>\n",
       "      <td>2571</td>\n",
       "      <td>0</td>\n",
       "    </tr>\n",
       "    <tr>\n",
       "      <th>142</th>\n",
       "      <td>39806</td>\n",
       "      <td>2594</td>\n",
       "      <td>0</td>\n",
       "    </tr>\n",
       "    <tr>\n",
       "      <th>143</th>\n",
       "      <td>40002</td>\n",
       "      <td>2618</td>\n",
       "      <td>0</td>\n",
       "    </tr>\n",
       "    <tr>\n",
       "      <th>144</th>\n",
       "      <td>40633</td>\n",
       "      <td>2641</td>\n",
       "      <td>0</td>\n",
       "    </tr>\n",
       "  </tbody>\n",
       "</table>\n",
       "<p>145 rows × 3 columns</p>\n",
       "</div>"
      ],
      "text/plain": [
       "     InstanceID  noduleID  Binary_Rating_Spic\n",
       "0           270        15                   1\n",
       "1           425        34                   0\n",
       "2           487        42                   0\n",
       "3           515        36                   0\n",
       "4          1364       105                   0\n",
       "..          ...       ...                 ...\n",
       "140       39376      2567                   0\n",
       "141       39440      2571                   0\n",
       "142       39806      2594                   0\n",
       "143       40002      2618                   0\n",
       "144       40633      2641                   0\n",
       "\n",
       "[145 rows x 3 columns]"
      ]
     },
     "metadata": {},
     "output_type": "display_data"
    }
   ],
   "source": [
    "display(df_te)"
   ]
  },
  {
   "cell_type": "code",
   "execution_count": 6,
   "id": "91cbe5b3-aee4-4ae8-be3f-5149e70a4133",
   "metadata": {},
   "outputs": [],
   "source": [
    "list1 = df_te.index"
   ]
  },
  {
   "cell_type": "code",
   "execution_count": 7,
   "id": "58abd2fc-f3a4-4591-96d2-6bb9922a0da3",
   "metadata": {},
   "outputs": [
    {
     "data": {
      "text/plain": [
       "RangeIndex(start=0, stop=145, step=1)"
      ]
     },
     "execution_count": 7,
     "metadata": {},
     "output_type": "execute_result"
    }
   ],
   "source": [
    "list1"
   ]
  },
  {
   "cell_type": "code",
   "execution_count": 8,
   "id": "cc6173e4-6f99-4dec-b335-2b5c0d325608",
   "metadata": {},
   "outputs": [],
   "source": [
    "from itertools import permutations\n",
    "\n",
    "list2 = list(permutations(list1, 2)) #tuple of all possible permutaions"
   ]
  },
  {
   "cell_type": "code",
   "execution_count": 9,
   "id": "1a542d15-7e25-4335-9506-3ff824d45089",
   "metadata": {},
   "outputs": [
    {
     "name": "stdout",
     "output_type": "stream",
     "text": [
      "(0, 1)\n",
      "0\n"
     ]
    }
   ],
   "source": [
    "#positiveSpicPairs = []\n",
    "positivePairs = []\n",
    "negativePairs = []\n",
    "\n",
    "length = len(list2)\n",
    "print(list2[0])\n",
    "print(list2[0][0])"
   ]
  },
  {
   "cell_type": "code",
   "execution_count": 10,
   "id": "7c9bac0e-d35d-4f38-ae28-bb6e66c234d6",
   "metadata": {},
   "outputs": [
    {
     "name": "stdout",
     "output_type": "stream",
     "text": [
      "1\n",
      "270\n"
     ]
    }
   ],
   "source": [
    "print(df_te[\"Binary_Rating_Spic\"][list2[0][0]])\n",
    "print(df_te[\"InstanceID\"][list2[0][0]])"
   ]
  },
  {
   "cell_type": "code",
   "execution_count": 11,
   "id": "73770a0f-ace4-4b7c-9306-61ada800e730",
   "metadata": {},
   "outputs": [],
   "source": [
    "for x in range(length):\n",
    "    firstInd = list2[x][0]\n",
    "    secondInd = list2[x][1]\n",
    "    \n",
    "    firstRate = df_te[\"Binary_Rating_Spic\"][firstInd]\n",
    "    secondRate = df_te[\"Binary_Rating_Spic\"][secondInd]\n",
    "    \n",
    "    firstInstanceId = df_te[\"InstanceID\"][list2[x][0]]\n",
    "    secondInstanceId = df_te[\"InstanceID\"][list2[x][1]]\n",
    "    \n",
    "    #Not Malignant or Not Spiculated\n",
    "    if(firstRate == secondRate and firstRate == 0):\n",
    "        positivePairs.append((firstInstanceId, secondInstanceId))  \n",
    "    # Malignant or Spiculated\n",
    "    elif(firstRate == secondRate and firstRate == 1):\n",
    "        positivePairs.append((firstInstanceId, secondInstanceId))    \n",
    "    # indeterminate    \n",
    "    #elif(firstRate == secondRate and firstRate == 2):\n",
    "    #    positivePairs.append((firstInstanceId, secondInstanceId))\n",
    "        \n",
    "    else:\n",
    "        negativePairs.append((firstInstanceId, secondInstanceId))\n",
    "    # Malignant ...\n",
    "    '''elif(firstRate == secondRate and firstRate == 3):\n",
    "        positivePairs.append((firstInstanceId, secondInstanceId))'''\n",
    " "
   ]
  },
  {
   "cell_type": "code",
   "execution_count": 12,
   "id": "c76de492-11b3-4944-8ef2-1a0d394ea04e",
   "metadata": {},
   "outputs": [
    {
     "data": {
      "text/plain": [
       "6188"
      ]
     },
     "execution_count": 12,
     "metadata": {},
     "output_type": "execute_result"
    }
   ],
   "source": [
    "len(negativePairs)"
   ]
  },
  {
   "cell_type": "code",
   "execution_count": 13,
   "id": "4a1da74a-fdab-4bcf-a5ac-19733c9a87b2",
   "metadata": {},
   "outputs": [
    {
     "data": {
      "text/plain": [
       "14692"
      ]
     },
     "execution_count": 13,
     "metadata": {},
     "output_type": "execute_result"
    }
   ],
   "source": [
    "len(positivePairs)"
   ]
  },
  {
   "cell_type": "code",
   "execution_count": 14,
   "id": "597b2f2c-d8a9-4fad-8989-71b8efd446a9",
   "metadata": {},
   "outputs": [],
   "source": [
    "import random\n",
    "random.shuffle(positivePairs)\n",
    "output_file1 = '/Users/amalalmansour/Desktop/New_Images/Spiculation/TestPosPairs.csv'\n",
    "numpy.savetxt(output_file1, positivePairs, fmt= '%s', delimiter=',')\n",
    "\n",
    "#output_file2 = 'C:\\\\Users\\\\weissmce\\\\Desktop\\\\Multi-LevelSimilarity2021\\\\MedIx REU\\\\Datasets\\\\PosNoSpicPairs.csv'\n",
    "#numpy.savetxt(output_file2, positiveNoSpicPairs, fmt= '%s', delimiter=',')"
   ]
  },
  {
   "cell_type": "code",
   "execution_count": 15,
   "id": "b573e484-0ba0-4230-8c14-b597359dd7aa",
   "metadata": {},
   "outputs": [],
   "source": [
    "random.shuffle(negativePairs)\n",
    "output_file3 = '/Users/amalalmansour/Desktop/New_Images/Spiculation/TestNegPairs.csv'\n",
    "numpy.savetxt(output_file3, negativePairs, fmt= '%s', delimiter=',')"
   ]
  },
  {
   "cell_type": "code",
   "execution_count": null,
   "id": "41a98cce-f930-40be-990a-008e088e8ee0",
   "metadata": {},
   "outputs": [],
   "source": []
  }
 ],
 "metadata": {
  "kernelspec": {
   "display_name": "Python 3",
   "language": "python",
   "name": "python3"
  },
  "language_info": {
   "codemirror_mode": {
    "name": "ipython",
    "version": 3
   },
   "file_extension": ".py",
   "mimetype": "text/x-python",
   "name": "python",
   "nbconvert_exporter": "python",
   "pygments_lexer": "ipython3",
   "version": "3.9.7"
  }
 },
 "nbformat": 4,
 "nbformat_minor": 5
}
